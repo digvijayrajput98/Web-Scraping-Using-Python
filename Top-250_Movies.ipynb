{
 "cells": [
  {
   "cell_type": "markdown",
   "metadata": {},
   "source": [
    "# Scraping Top 250 Movies Sorted by Rating on  IMDb Using Pyhton\n",
    "\n",
    "![](https://i.imgur.com/Lh71xPB.png)\n",
    "**IMDb** is the most authoritative source of entertainment information, with features designed to help fans explore the world of movies and shows and decide what to watch.IMDb (an acronym for Internet Movie Database) is an online database of information related to films, television programs, home videos, video games, and streaming content online — including cast, production crew, and personal biographies, plot summaries, trivia, ratings, and fan, and critical review.\n",
    "\n",
    "The page https://www.imdb.com/search/title/?groups=top_250&sort=user_rating,desc&start= provides information about the Top 250 Movies.In this Project we will use this page to retrive information about the movies using Web Scraping.\n",
    "\n",
    "### Lets talk about Web Scraping\n",
    "Web scraping is an automatic method to obtain large amounts of data from websites. Most of this data is unstructured data in an HTML format which is then converted into structured data in a spreadsheet or a database so that it can be used in various applications.\n",
    "\n",
    "### How to do Web Scraping Using Python\n",
    "As we know, Python is has various applications and there are different libraries for different purposes. In our further demonstration, we will be using the following libraries:\n",
    "\n",
    "Requests: The requests module allows you to send HTTP requests using Python.The HTTP request returns a Response Object with all the response data (content, encoding, status, etc).[Requets](https://www.w3schools.com/python/module_requests.asp)\n",
    "\n",
    "BeautifulSoup: Beautiful Soup is a Python package for parsing HTML and XML documents. It creates parse trees that is helpful to extract the data easily.[BeautifulSoup](https://www.crummy.com/software/BeautifulSoup/bs4/doc/)\n",
    "\n",
    "\n",
    "Pandas: Pandas is a library used for data manipulation and analysis. It is used to extract the data and store it in the desired format.[Pandas](https://www.w3schools.com/python/pandas/pandas_csv.asp)\n",
    "\n",
    "## Here's a step-by-step outline For this project:\n",
    "\n",
    "1. Download the Webpage using requests.\n",
    "2. Parse the HTML source code using beautiful Soup.\n",
    "3. Extract topic names, descriptions, and URLs from page.\n",
    "4. Compile the extracted information into Python List and Dictionary.\n",
    "5. create a CSV file using Pandas to save the extracted information.\n",
    "\n",
    "By the end of this Project, We will create a CSV file which contains the following information:\n",
    "\n",
    "Movie_Name, Release year, Movie Url, Rating"
   ]
  },
  {
   "cell_type": "markdown",
   "metadata": {},
   "source": [
    "## How to Run the Code\n",
    "\n",
    "You can Execute the code using the 'Run' botton at the top of this page. You can also make changes and save your own version of this notebook to [Jovian](https://jovian.ai/) by executing the following code cells :"
   ]
  },
  {
   "cell_type": "code",
   "execution_count": 182,
   "metadata": {},
   "outputs": [],
   "source": [
    "!pip install jovian --upgrade --quiet"
   ]
  },
  {
   "cell_type": "code",
   "execution_count": 183,
   "metadata": {},
   "outputs": [],
   "source": [
    "import jovian"
   ]
  },
  {
   "cell_type": "markdown",
   "metadata": {},
   "source": [
    "# Downlaod the Webpage using requests\n",
    "\n",
    "We can the use the requests library to download the web page"
   ]
  },
  {
   "cell_type": "code",
   "execution_count": 184,
   "metadata": {},
   "outputs": [],
   "source": [
    "!pip install requests --upgrade --quiet"
   ]
  },
  {
   "cell_type": "code",
   "execution_count": 185,
   "metadata": {},
   "outputs": [],
   "source": [
    " import requests"
   ]
  },
  {
   "cell_type": "markdown",
   "metadata": {},
   "source": [
    "The library is now installed and imported.\n",
    "To download the Web page ,we can use 'get' function from the requests, which returns a response object."
   ]
  },
  {
   "cell_type": "code",
   "execution_count": 186,
   "metadata": {},
   "outputs": [],
   "source": [
    "Base_Url = 'https://www.imdb.com/search/title/?groups=top_250&sort=user_rating,desc&start='\n",
    "\n",
    "response = requests.get(base_Url)"
   ]
  },
  {
   "cell_type": "markdown",
   "metadata": {},
   "source": [
    "`requests.get` returns a response object containing the data from the web page and some other information about the response.\n",
    "\n",
    "Then`response.status_code` returns a number that indicates the status (200 is OK, 404 is Not Found). Python requests are generally used to fetch the content from a particular resource URI.[HTTP status_code](https://developer.mozilla.org/en-US/docs/Web/HTTP/Status)"
   ]
  },
  {
   "cell_type": "code",
   "execution_count": 187,
   "metadata": {},
   "outputs": [
    {
     "data": {
      "text/plain": [
       "200"
      ]
     },
     "execution_count": 187,
     "metadata": {},
     "output_type": "execute_result"
    }
   ],
   "source": [
    "response.status_code"
   ]
  },
  {
   "cell_type": "markdown",
   "metadata": {},
   "source": [
    "The  request is successful.Now we can get the contents of the page using the `response.text`\n"
   ]
  },
  {
   "cell_type": "code",
   "execution_count": 188,
   "metadata": {},
   "outputs": [],
   "source": [
    "Page_content = response.text"
   ]
  },
  {
   "cell_type": "markdown",
   "metadata": {},
   "source": [
    "Lets check the no. of character on the page."
   ]
  },
  {
   "cell_type": "code",
   "execution_count": 189,
   "metadata": {},
   "outputs": [
    {
     "data": {
      "text/plain": [
       "441498"
      ]
     },
     "execution_count": 189,
     "metadata": {},
     "output_type": "execute_result"
    }
   ],
   "source": [
    "len(Page_content)"
   ]
  },
  {
   "cell_type": "markdown",
   "metadata": {},
   "source": [
    "The page contains over595400 charcters.Here are the first 250 character of the page:"
   ]
  },
  {
   "cell_type": "code",
   "execution_count": 190,
   "metadata": {},
   "outputs": [
    {
     "data": {
      "text/plain": [
       "'\\n\\n<!DOCTYPE html>\\n<html\\n    xmlns:og=\"http://ogp.me/ns#\"\\n    xmlns:fb=\"http://www.facebook.com/2008/fbml\">\\n    <head>\\n         \\n\\n        <meta charset=\"utf-8\">\\n        <meta http-equiv=\"X-UA-Compatible\" content=\"IE=edge\">\\n\\n\\n\\n\\n        <script type=\"te'"
      ]
     },
     "execution_count": 190,
     "metadata": {},
     "output_type": "execute_result"
    }
   ],
   "source": [
    "Page_content[:250]"
   ]
  },
  {
   "cell_type": "markdown",
   "metadata": {},
   "source": [
    "What we are looking at the above content is the [HTML Source code of the page](https://en.wikipedia.org/wiki/HTML) of the web page\n",
    "\n",
    "We can also save it to file and view the page locally within jupyter using 'File>open'"
   ]
  },
  {
   "cell_type": "code",
   "execution_count": 191,
   "metadata": {},
   "outputs": [],
   "source": [
    "with open('Top_250_Movie.html',\"w\") as file:\n",
    "    file.write(Page_content)"
   ]
  },
  {
   "cell_type": "markdown",
   "metadata": {},
   "source": [
    " We have successfully download the web page using request.Now we can view the HTML source code of the page locally within Jupyter. "
   ]
  },
  {
   "cell_type": "markdown",
   "metadata": {},
   "source": [
    "## Parse the HTML source code using the Beautiful Soup\n",
    "\n",
    "We'll use Beautiful Soup Python library to parse the HTML source code of the web page downloaded in the previous section.[Beautiful Soup](https://www.crummy.com/software/BeautifulSoup/bs4/doc/)"
   ]
  },
  {
   "cell_type": "markdown",
   "metadata": {},
   "source": [
    "Lets install and import the Beautiful Soup Library."
   ]
  },
  {
   "cell_type": "code",
   "execution_count": 192,
   "metadata": {},
   "outputs": [],
   "source": [
    "!pip install beautifulsoup4 --upgrade --quiet"
   ]
  },
  {
   "cell_type": "code",
   "execution_count": 193,
   "metadata": {},
   "outputs": [],
   "source": [
    "from bs4 import BeautifulSoup"
   ]
  },
  {
   "cell_type": "markdown",
   "metadata": {},
   "source": [
    "We have successfully import Beautiful Soup. Now we use HTML Parser which is a structured markup processing tool. It defines a class called HTMLParser, which is used to parse HTML files."
   ]
  },
  {
   "cell_type": "code",
   "execution_count": 194,
   "metadata": {},
   "outputs": [],
   "source": [
    "doc = BeautifulSoup(response.text,'html.parser')"
   ]
  },
  {
   "cell_type": "code",
   "execution_count": 195,
   "metadata": {},
   "outputs": [
    {
     "data": {
      "text/plain": [
       "bs4.BeautifulSoup"
      ]
     },
     "execution_count": 195,
     "metadata": {},
     "output_type": "execute_result"
    }
   ],
   "source": [
    "type(doc)"
   ]
  },
  {
   "cell_type": "code",
   "execution_count": 196,
   "metadata": {},
   "outputs": [
    {
     "data": {
      "text/plain": [
       "<title>IMDb \"Top 250\"\n",
       "(Sorted by IMDb Rating Descending) - IMDb</title>"
      ]
     },
     "execution_count": 196,
     "metadata": {},
     "output_type": "execute_result"
    }
   ],
   "source": [
    "doc.find('title') # Title of page"
   ]
  },
  {
   "cell_type": "markdown",
   "metadata": {},
   "source": [
    "\n",
    "\n",
    "###  Let's create a helper Function get_page_urls that store the link of              all pages which we want to scrape in a list"
   ]
  },
  {
   "cell_type": "code",
   "execution_count": 197,
   "metadata": {},
   "outputs": [],
   "source": [
    "Base_Url = 'https://www.imdb.com/search/title/?groups=top_250&sort=user_rating,desc&start='\n",
    "def Get_Movie_Pages_Url(Base_Url):\n",
    "    URL_List = []\n",
    "    for i in range(1,202,50): # Using this loop to reterive url for different pages\n",
    "        urls = Base_Url +str(i) +\"&ref_=adv_nxt\"\n",
    "        URL_List.append(urls)\n",
    "    return URL_List\n"
   ]
  },
  {
   "cell_type": "code",
   "execution_count": 198,
   "metadata": {
    "scrolled": true
   },
   "outputs": [
    {
     "data": {
      "text/plain": [
       "['https://www.imdb.com/search/title/?groups=top_250&sort=user_rating,desc&start=1&ref_=adv_nxt',\n",
       " 'https://www.imdb.com/search/title/?groups=top_250&sort=user_rating,desc&start=51&ref_=adv_nxt',\n",
       " 'https://www.imdb.com/search/title/?groups=top_250&sort=user_rating,desc&start=101&ref_=adv_nxt',\n",
       " 'https://www.imdb.com/search/title/?groups=top_250&sort=user_rating,desc&start=151&ref_=adv_nxt',\n",
       " 'https://www.imdb.com/search/title/?groups=top_250&sort=user_rating,desc&start=201&ref_=adv_nxt']"
      ]
     },
     "execution_count": 198,
     "metadata": {},
     "output_type": "execute_result"
    }
   ],
   "source": [
    "Get_Movie_Pages_Url(Base_Url)"
   ]
  },
  {
   "cell_type": "markdown",
   "metadata": {},
   "source": [
    "### Now we can use the Get_Movie_Pages_Url to downlaod and parse a web page"
   ]
  },
  {
   "cell_type": "code",
   "execution_count": 199,
   "metadata": {},
   "outputs": [],
   "source": [
    "def Parse_Url(Base_Url):\n",
    "    response = requests.get(base_url)\n",
    "    if response.status_code != 200:\n",
    "        raise Exception(\"error in getting the page {}\".format(base_url))\n",
    "    page_contents = response.text\n",
    "    doc = BeautifulSoup(page_contents,'html.parser')\n",
    "    return doc\n"
   ]
  },
  {
   "cell_type": "code",
   "execution_count": 200,
   "metadata": {},
   "outputs": [],
   "source": [
    "doc = Parse_Url(Base_Url)"
   ]
  },
  {
   "cell_type": "markdown",
   "metadata": {},
   "source": [
    "we can now use the `get_movie_page` to downlaod the different web page of top 250 movies using the Beautiful SOup"
   ]
  },
  {
   "cell_type": "markdown",
   "metadata": {},
   "source": [
    "# Extract movie names, year,  ratings and URLs"
   ]
  },
  {
   "cell_type": "markdown",
   "metadata": {},
   "source": [
    "## Extracting Movie Names\n",
    "\n",
    "We're extracting movie names by first selecting  tag 'h3' and  class 'lister_item_header' and then inside it there is a 'a' tag which gives the movie name ![lister-item-header](https://i.imgur.com/uj5eJJA.png)"
   ]
  },
  {
   "cell_type": "code",
   "execution_count": 201,
   "metadata": {},
   "outputs": [],
   "source": [
    "def Get_Movie_Title(doc):\n",
    "    Movie_names = [] \n",
    "    \n",
    "    # find all h3 tag by using the class \"lister-item-header\"\n",
    "        \n",
    "    Movie_name_tags =doc.find_all('h3',class_='lister-item-header')\n",
    "    # as we can see the Movie name is inside the 'a' tag \n",
    "    for tag in Movie_name_tags:\n",
    "        titles = tag.find('a')\n",
    "    # use the .append method to store all movie name in Movie_names \n",
    "        Movie_names.append(titles.text)\n",
    "    \n",
    "    return Movie_names"
   ]
  },
  {
   "cell_type": "code",
   "execution_count": 202,
   "metadata": {},
   "outputs": [],
   "source": [
    "movie_name =Get_Movie_Title(doc) # we store the movie name "
   ]
  },
  {
   "cell_type": "code",
   "execution_count": 203,
   "metadata": {},
   "outputs": [
    {
     "data": {
      "text/plain": [
       "['The Shawshank Redemption',\n",
       " 'The Godfather',\n",
       " 'The Dark Knight',\n",
       " 'The Lord of the Rings: The Return of the King',\n",
       " \"Schindler's List\"]"
      ]
     },
     "execution_count": 203,
     "metadata": {},
     "output_type": "execute_result"
    }
   ],
   "source": [
    "movie_name[:5] # we can see the first five movie name"
   ]
  },
  {
   "cell_type": "code",
   "execution_count": 204,
   "metadata": {},
   "outputs": [
    {
     "data": {
      "text/plain": [
       "50"
      ]
     },
     "execution_count": 204,
     "metadata": {},
     "output_type": "execute_result"
    }
   ],
   "source": [
    "len(movie_name) # as we can see there are 50 movies on one page"
   ]
  },
  {
   "cell_type": "markdown",
   "metadata": {},
   "source": [
    "## Extracting  Movie Released Year\n",
    "\n",
    "We're extracting movie year by selecting a tag `span` and class `lister-item-year text-muted unbold`![](https://i.imgur.com/iF8Fcn9.png)"
   ]
  },
  {
   "cell_type": "code",
   "execution_count": 205,
   "metadata": {},
   "outputs": [],
   "source": [
    "def Get_Movie_Year(doc):\n",
    "        \n",
    "    Movie_year_tags = doc.find_all('span',class_='lister-item-year text-muted unbold')\n",
    "    Movie_year = []\n",
    "    \n",
    "    for tag in Movie_year_tags:\n",
    "       \n",
    "        Movie_year.append(tag.text)\n",
    "    \n",
    "    return Movie_year"
   ]
  },
  {
   "cell_type": "code",
   "execution_count": 206,
   "metadata": {},
   "outputs": [],
   "source": [
    "movie_year =Get_Movie_Year(doc)\n"
   ]
  },
  {
   "cell_type": "code",
   "execution_count": 207,
   "metadata": {},
   "outputs": [
    {
     "data": {
      "text/plain": [
       "50"
      ]
     },
     "execution_count": 207,
     "metadata": {},
     "output_type": "execute_result"
    }
   ],
   "source": [
    "len(Movie_Year)"
   ]
  },
  {
   "cell_type": "code",
   "execution_count": 208,
   "metadata": {},
   "outputs": [
    {
     "data": {
      "text/plain": [
       "['(1994)', '(1972)', '(2008)', '(2003)', '(1993)']"
      ]
     },
     "execution_count": 208,
     "metadata": {},
     "output_type": "execute_result"
    }
   ],
   "source": [
    "Movie_Year[:5]"
   ]
  },
  {
   "cell_type": "markdown",
   "metadata": {},
   "source": [
    "## Extracting  Individual Movie Url\n",
    "\n",
    "We're extracting movie year by selecting a tag `h3` and class `lister-item-header` ![](https://i.imgur.com/iF8Fcn9.png)"
   ]
  },
  {
   "cell_type": "code",
   "execution_count": 209,
   "metadata": {},
   "outputs": [],
   "source": [
    "\n",
    "def Get_Movie_Url(doc):\n",
    "    base_url= 'https://www.imdb.com/'\n",
    "    Movie_link_tags = doc.find_all('h3',class_='lister-item-header')\n",
    "    Movie_link=[]\n",
    "    \n",
    "    for tag in Movie_link_tags:\n",
    "        Movie_link.append(base_url + tag.find('a')['href'])\n",
    "        \n",
    "    return Movie_link"
   ]
  },
  {
   "cell_type": "code",
   "execution_count": 210,
   "metadata": {},
   "outputs": [],
   "source": [
    "movie_url = Get_Movie_Url(doc)\n",
    "\n"
   ]
  },
  {
   "cell_type": "code",
   "execution_count": 211,
   "metadata": {},
   "outputs": [
    {
     "data": {
      "text/plain": [
       "50"
      ]
     },
     "execution_count": 211,
     "metadata": {},
     "output_type": "execute_result"
    }
   ],
   "source": [
    "len(movie_url)"
   ]
  },
  {
   "cell_type": "code",
   "execution_count": 212,
   "metadata": {},
   "outputs": [
    {
     "data": {
      "text/plain": [
       "['https://www.imdb.com//title/tt0111161/',\n",
       " 'https://www.imdb.com//title/tt0068646/',\n",
       " 'https://www.imdb.com//title/tt0468569/',\n",
       " 'https://www.imdb.com//title/tt0167260/',\n",
       " 'https://www.imdb.com//title/tt0108052/']"
      ]
     },
     "execution_count": 212,
     "metadata": {},
     "output_type": "execute_result"
    }
   ],
   "source": [
    "movie_url[:5]"
   ]
  },
  {
   "cell_type": "markdown",
   "metadata": {},
   "source": [
    "## Extracting Ratings\n",
    "\n",
    "We're extracting movie year by selecting a tag `div` and class `inline-block ratings-imdb-rating`![](https://i.imgur.com/qKfgHdb.png)"
   ]
  },
  {
   "cell_type": "code",
   "execution_count": 213,
   "metadata": {},
   "outputs": [],
   "source": [
    "\n",
    "def Get_Movie_Rating(doc):\n",
    "    Movie_ratings_tags = doc.find_all('div',class_='inline-block ratings-imdb-rating')\n",
    "    Movie_ratings=[]\n",
    "    \n",
    "    for tag in Movie_ratings_tags:\n",
    "        Movie_ratings.append(tag.text.replace('\\n',\"\"))\n",
    "        \n",
    "    return Movie_ratings"
   ]
  },
  {
   "cell_type": "code",
   "execution_count": 214,
   "metadata": {},
   "outputs": [],
   "source": [
    "movie_rating = Get_Movie_Rating(doc)\n",
    "\n"
   ]
  },
  {
   "cell_type": "code",
   "execution_count": 215,
   "metadata": {},
   "outputs": [
    {
     "data": {
      "text/plain": [
       "50"
      ]
     },
     "execution_count": 215,
     "metadata": {},
     "output_type": "execute_result"
    }
   ],
   "source": [
    "len(movie_rating)"
   ]
  },
  {
   "cell_type": "code",
   "execution_count": 216,
   "metadata": {},
   "outputs": [
    {
     "data": {
      "text/plain": [
       "['9.3', '9.2', '9.0', '9.0', '9.0']"
      ]
     },
     "execution_count": 216,
     "metadata": {},
     "output_type": "execute_result"
    }
   ],
   "source": [
    "movie_rating[:5]"
   ]
  },
  {
   "cell_type": "markdown",
   "metadata": {},
   "source": [
    "##  Let us import Pandas Library"
   ]
  },
  {
   "cell_type": "markdown",
   "metadata": {},
   "source": [
    "Pandas is a software library written for the Python programming language for data manipulation and analysis. In particular, it offers data structures and operations for manipulating numerical tables and time series. It is free software released under the three-clause BSD license.[2] The name is derived from the term \"panel data\", an econometrics term for data sets that include observations over multiple time periods for the same individuals\n",
    "\n",
    "let us import Pandas"
   ]
  },
  {
   "cell_type": "code",
   "execution_count": 217,
   "metadata": {},
   "outputs": [],
   "source": [
    "import pandas as pd"
   ]
  },
  {
   "cell_type": "markdown",
   "metadata": {},
   "source": [
    "\n",
    "## Let Us Create a Function which will store all the extracted Information into the python dictionary for all the  pages"
   ]
  },
  {
   "cell_type": "code",
   "execution_count": 218,
   "metadata": {},
   "outputs": [],
   "source": [
    "def Scrape_Top_Rated_Movies(Base_Url):\n",
    "    urls = Get_Movie_Pages_Url(Base_Url)\n",
    "    Movie_Dict = {'Movie_name':[],'Release_Year':[],'Movie_Url':[],'Rating':[]}\n",
    "    for url in urls:\n",
    "        doc = parse_url(url)\n",
    "        Movie_Dict['Movie_name'] += Get_Movie_Title(doc)\n",
    "        Movie_Dict['Release_Year'] += Get_Movie_Year(doc)\n",
    "        Movie_Dict['Movie_Url'] += Get_Movie_Url(doc)\n",
    "        Movie_Dict['Rating'] += Get_Movie_Rating(doc)\n",
    "       \n",
    "    Movies_df = pd.DataFrame(Movie_Dict)\n",
    "    Movies_df.to_csv('IMDB250.csv',index = False)\n",
    "    return Movie_Dict"
   ]
  },
  {
   "cell_type": "markdown",
   "metadata": {},
   "source": [
    "### Now we write all the extracted information into the CSV file by using the Pandas Dataframe"
   ]
  },
  {
   "cell_type": "code",
   "execution_count": 219,
   "metadata": {},
   "outputs": [],
   "source": [
    "Movies_df = pd.DataFrame(Scrape_Top_Rated_Movies(Base_Url))\n",
    "Movies_df.to_csv('IMDB250.csv',index = False)"
   ]
  },
  {
   "cell_type": "code",
   "execution_count": 220,
   "metadata": {},
   "outputs": [
    {
     "data": {
      "text/html": [
       "<div>\n",
       "<style scoped>\n",
       "    .dataframe tbody tr th:only-of-type {\n",
       "        vertical-align: middle;\n",
       "    }\n",
       "\n",
       "    .dataframe tbody tr th {\n",
       "        vertical-align: top;\n",
       "    }\n",
       "\n",
       "    .dataframe thead th {\n",
       "        text-align: right;\n",
       "    }\n",
       "</style>\n",
       "<table border=\"1\" class=\"dataframe\">\n",
       "  <thead>\n",
       "    <tr style=\"text-align: right;\">\n",
       "      <th></th>\n",
       "      <th>Movie_name</th>\n",
       "      <th>Release_Year</th>\n",
       "      <th>Movie_Url</th>\n",
       "      <th>Rating</th>\n",
       "    </tr>\n",
       "  </thead>\n",
       "  <tbody>\n",
       "    <tr>\n",
       "      <th>0</th>\n",
       "      <td>The Shawshank Redemption</td>\n",
       "      <td>(1994)</td>\n",
       "      <td>https://www.imdb.com//title/tt0111161/</td>\n",
       "      <td>9.3</td>\n",
       "    </tr>\n",
       "    <tr>\n",
       "      <th>1</th>\n",
       "      <td>The Godfather</td>\n",
       "      <td>(1972)</td>\n",
       "      <td>https://www.imdb.com//title/tt0068646/</td>\n",
       "      <td>9.2</td>\n",
       "    </tr>\n",
       "    <tr>\n",
       "      <th>2</th>\n",
       "      <td>The Dark Knight</td>\n",
       "      <td>(2008)</td>\n",
       "      <td>https://www.imdb.com//title/tt0468569/</td>\n",
       "      <td>9.0</td>\n",
       "    </tr>\n",
       "    <tr>\n",
       "      <th>3</th>\n",
       "      <td>The Lord of the Rings: The Return of the King</td>\n",
       "      <td>(2003)</td>\n",
       "      <td>https://www.imdb.com//title/tt0167260/</td>\n",
       "      <td>9.0</td>\n",
       "    </tr>\n",
       "    <tr>\n",
       "      <th>4</th>\n",
       "      <td>Schindler's List</td>\n",
       "      <td>(1993)</td>\n",
       "      <td>https://www.imdb.com//title/tt0108052/</td>\n",
       "      <td>9.0</td>\n",
       "    </tr>\n",
       "    <tr>\n",
       "      <th>...</th>\n",
       "      <td>...</td>\n",
       "      <td>...</td>\n",
       "      <td>...</td>\n",
       "      <td>...</td>\n",
       "    </tr>\n",
       "    <tr>\n",
       "      <th>245</th>\n",
       "      <td>The Incredibles</td>\n",
       "      <td>(2004)</td>\n",
       "      <td>https://www.imdb.com//title/tt0317705/</td>\n",
       "      <td>8.0</td>\n",
       "    </tr>\n",
       "    <tr>\n",
       "      <th>246</th>\n",
       "      <td>Aladdin</td>\n",
       "      <td>(1992)</td>\n",
       "      <td>https://www.imdb.com//title/tt0103639/</td>\n",
       "      <td>8.0</td>\n",
       "    </tr>\n",
       "    <tr>\n",
       "      <th>247</th>\n",
       "      <td>Beauty and the Beast</td>\n",
       "      <td>(1991)</td>\n",
       "      <td>https://www.imdb.com//title/tt0101414/</td>\n",
       "      <td>8.0</td>\n",
       "    </tr>\n",
       "    <tr>\n",
       "      <th>248</th>\n",
       "      <td>Dances with Wolves</td>\n",
       "      <td>(1990)</td>\n",
       "      <td>https://www.imdb.com//title/tt0099348/</td>\n",
       "      <td>8.0</td>\n",
       "    </tr>\n",
       "    <tr>\n",
       "      <th>249</th>\n",
       "      <td>Life of Brian</td>\n",
       "      <td>(1979)</td>\n",
       "      <td>https://www.imdb.com//title/tt0079470/</td>\n",
       "      <td>8.0</td>\n",
       "    </tr>\n",
       "  </tbody>\n",
       "</table>\n",
       "<p>250 rows × 4 columns</p>\n",
       "</div>"
      ],
      "text/plain": [
       "                                        Movie_name Release_Year  \\\n",
       "0                         The Shawshank Redemption       (1994)   \n",
       "1                                    The Godfather       (1972)   \n",
       "2                                  The Dark Knight       (2008)   \n",
       "3    The Lord of the Rings: The Return of the King       (2003)   \n",
       "4                                 Schindler's List       (1993)   \n",
       "..                                             ...          ...   \n",
       "245                                The Incredibles       (2004)   \n",
       "246                                        Aladdin       (1992)   \n",
       "247                           Beauty and the Beast       (1991)   \n",
       "248                             Dances with Wolves       (1990)   \n",
       "249                                  Life of Brian       (1979)   \n",
       "\n",
       "                                  Movie_Url Rating  \n",
       "0    https://www.imdb.com//title/tt0111161/    9.3  \n",
       "1    https://www.imdb.com//title/tt0068646/    9.2  \n",
       "2    https://www.imdb.com//title/tt0468569/    9.0  \n",
       "3    https://www.imdb.com//title/tt0167260/    9.0  \n",
       "4    https://www.imdb.com//title/tt0108052/    9.0  \n",
       "..                                      ...    ...  \n",
       "245  https://www.imdb.com//title/tt0317705/    8.0  \n",
       "246  https://www.imdb.com//title/tt0103639/    8.0  \n",
       "247  https://www.imdb.com//title/tt0101414/    8.0  \n",
       "248  https://www.imdb.com//title/tt0099348/    8.0  \n",
       "249  https://www.imdb.com//title/tt0079470/    8.0  \n",
       "\n",
       "[250 rows x 4 columns]"
      ]
     },
     "execution_count": 220,
     "metadata": {},
     "output_type": "execute_result"
    }
   ],
   "source": [
    "Movies_df"
   ]
  },
  {
   "cell_type": "markdown",
   "metadata": {},
   "source": [
    "## Let us combine all the function that we had written to extract the particular information "
   ]
  },
  {
   "cell_type": "code",
   "execution_count": 221,
   "metadata": {
    "code_folding": []
   },
   "outputs": [],
   "source": [
    "import requests\n",
    "from bs4 import BeautifulSoup\n",
    "import pandas as pd\n",
    "\n",
    "\n",
    "Base_Url = 'https://www.imdb.com/search/title/?groups=top_250&sort=user_rating,desc&start='\n",
    "\n",
    "def Get_Movie_Pages_Url(Base_Url):\n",
    "    URL_List = []\n",
    "    for i in range(1,202,50): # Using this loop to reterive url for different pages\n",
    "        urls = Base_Url +str(i) +\"&ref_=adv_nxt\"\n",
    "        URL_List.append(urls)\n",
    "    return URL_List\n",
    "\n",
    "def Parse_Url(Base_Url):\n",
    "    response = requests.get(base_url)\n",
    "    if response.status_code != 200:\n",
    "        raise Exception(f\"Error in extracting Information for webpage = {Base_Url}\")\n",
    "    page_contents = response.text\n",
    "    doc = BeautifulSoup(page_contents,'html.parser')\n",
    "    return doc\n",
    "\n",
    "def Get_Movie_Title(doc):\n",
    "    Movie_names = [] \n",
    "    \n",
    "    # find all h3 tag by using the class \"lister-item-header\"\n",
    "        \n",
    "    Movie_name_tags =doc.find_all('h3',class_='lister-item-header')\n",
    "    # as we can see the Movie name is inside the 'a' tag \n",
    "    for tag in Movie_name_tags:\n",
    "        titles = tag.find('a')\n",
    "    # use the .append method to store all movie name in Movie_names \n",
    "        Movie_names.append(titles.text)\n",
    "    \n",
    "    return Movie_names\n",
    "\n",
    "def Get_Movie_Year(doc):\n",
    "        \n",
    "    Movie_year_tags = doc.find_all('span',class_='lister-item-year text-muted unbold')\n",
    "    Movie_year = []\n",
    "    \n",
    "    for tag in Movie_year_tags:\n",
    "       \n",
    "        Movie_year.append(tag.text)\n",
    "    \n",
    "    return Movie_year\n",
    "\n",
    "def Get_Movie_Url(doc):\n",
    "    base_url= 'https://www.imdb.com/'\n",
    "    Movie_link_tags = doc.find_all('h3',class_='lister-item-header')\n",
    "    Movie_link=[]\n",
    "    \n",
    "    for tag in Movie_link_tags:\n",
    "        Movie_link.append(base_url + tag.find('a')['href'])\n",
    "        \n",
    "    return Movie_link\n",
    "\n",
    "def Get_Movie_Rating(doc):\n",
    "    Movie_ratings_tags = doc.find_all('div',class_='inline-block ratings-imdb-rating')\n",
    "    Movie_ratings=[]\n",
    "    \n",
    "    for tag in Movie_ratings_tags:\n",
    "        Movie_ratings.append(tag.text.replace('\\n',\"\"))\n",
    "        \n",
    "    return Movie_ratings\n",
    "\n",
    "def Scrape_Top_Rated_Movies(Base_Url):\n",
    "    urls = Get_Movie_Pages_Url(Base_Url)\n",
    "    Movie_Dict = {'Movie_name':[],'Release_Year':[],'Movie_Url':[],'Rating':[]}\n",
    "    for url in urls:\n",
    "        \n",
    "        doc = Parse_Url(Base_Url)\n",
    "        Movie_Dict['Movie_name'] += Get_Movie_Title(doc)\n",
    "        Movie_Dict['Release_Year'] += Get_Movie_Year(doc)\n",
    "        Movie_Dict['Movie_Url'] += Get_Movie_Url(doc)\n",
    "        Movie_Dict['Rating'] += Get_Movie_Rating(doc)\n",
    "       \n",
    "    Movies_df = pd.DataFrame(Movie_Dict)\n",
    "    Movies_df.to_csv('IMDB250.csv',index = False)\n",
    "    return Movie_Dict"
   ]
  },
  {
   "cell_type": "code",
   "execution_count": 224,
   "metadata": {},
   "outputs": [],
   "source": [
    " All_Movies = Scrape_Top_Rated_Movies(Base_Url)"
   ]
  },
  {
   "cell_type": "code",
   "execution_count": 226,
   "metadata": {},
   "outputs": [
    {
     "data": {
      "text/plain": [
       "{'Movie_name': ['The Shawshank Redemption',\n",
       "  'The Godfather',\n",
       "  'The Dark Knight',\n",
       "  'The Lord of the Rings: The Return of the King',\n",
       "  \"Schindler's List\",\n",
       "  'The Godfather Part II',\n",
       "  '12 Angry Men',\n",
       "  'Pulp Fiction',\n",
       "  'Inception',\n",
       "  'The Lord of the Rings: The Two Towers',\n",
       "  'Fight Club',\n",
       "  'The Lord of the Rings: The Fellowship of the Ring',\n",
       "  'Forrest Gump',\n",
       "  'The Good, the Bad and the Ugly',\n",
       "  'The Matrix',\n",
       "  'Goodfellas',\n",
       "  'Star Wars: Episode V - The Empire Strikes Back',\n",
       "  \"One Flew Over the Cuckoo's Nest\",\n",
       "  'Top Gun: Maverick',\n",
       "  'Interstellar',\n",
       "  'City of God',\n",
       "  'Spirited Away',\n",
       "  'Saving Private Ryan',\n",
       "  'The Green Mile',\n",
       "  'Life Is Beautiful',\n",
       "  'Se7en',\n",
       "  'Terminator 2: Judgment Day',\n",
       "  'The Silence of the Lambs',\n",
       "  'Star Wars',\n",
       "  'Hara-Kiri',\n",
       "  'Seven Samurai',\n",
       "  \"It's a Wonderful Life\",\n",
       "  'Parasite',\n",
       "  'Whiplash',\n",
       "  'The Intouchables',\n",
       "  'The Prestige',\n",
       "  'The Departed',\n",
       "  'The Pianist',\n",
       "  'Gladiator',\n",
       "  'American History X',\n",
       "  'The Usual Suspects',\n",
       "  'Léon: The Professional',\n",
       "  'The Lion King',\n",
       "  'Cinema Paradiso',\n",
       "  'Grave of the Fireflies',\n",
       "  'Back to the Future',\n",
       "  'Apocalypse Now',\n",
       "  'Alien',\n",
       "  'Once Upon a Time in the West',\n",
       "  'Psycho',\n",
       "  'The Shawshank Redemption',\n",
       "  'The Godfather',\n",
       "  'The Dark Knight',\n",
       "  'The Lord of the Rings: The Return of the King',\n",
       "  \"Schindler's List\",\n",
       "  'The Godfather Part II',\n",
       "  '12 Angry Men',\n",
       "  'Pulp Fiction',\n",
       "  'Inception',\n",
       "  'The Lord of the Rings: The Two Towers',\n",
       "  'Fight Club',\n",
       "  'The Lord of the Rings: The Fellowship of the Ring',\n",
       "  'Forrest Gump',\n",
       "  'The Good, the Bad and the Ugly',\n",
       "  'The Matrix',\n",
       "  'Goodfellas',\n",
       "  'Star Wars: Episode V - The Empire Strikes Back',\n",
       "  \"One Flew Over the Cuckoo's Nest\",\n",
       "  'Top Gun: Maverick',\n",
       "  'Interstellar',\n",
       "  'City of God',\n",
       "  'Spirited Away',\n",
       "  'Saving Private Ryan',\n",
       "  'The Green Mile',\n",
       "  'Life Is Beautiful',\n",
       "  'Se7en',\n",
       "  'Terminator 2: Judgment Day',\n",
       "  'The Silence of the Lambs',\n",
       "  'Star Wars',\n",
       "  'Hara-Kiri',\n",
       "  'Seven Samurai',\n",
       "  \"It's a Wonderful Life\",\n",
       "  'Parasite',\n",
       "  'Whiplash',\n",
       "  'The Intouchables',\n",
       "  'The Prestige',\n",
       "  'The Departed',\n",
       "  'The Pianist',\n",
       "  'Gladiator',\n",
       "  'American History X',\n",
       "  'The Usual Suspects',\n",
       "  'Léon: The Professional',\n",
       "  'The Lion King',\n",
       "  'Cinema Paradiso',\n",
       "  'Grave of the Fireflies',\n",
       "  'Back to the Future',\n",
       "  'Apocalypse Now',\n",
       "  'Alien',\n",
       "  'Once Upon a Time in the West',\n",
       "  'Psycho',\n",
       "  'The Shawshank Redemption',\n",
       "  'The Godfather',\n",
       "  'The Dark Knight',\n",
       "  'The Lord of the Rings: The Return of the King',\n",
       "  \"Schindler's List\",\n",
       "  'The Godfather Part II',\n",
       "  '12 Angry Men',\n",
       "  'Pulp Fiction',\n",
       "  'Inception',\n",
       "  'The Lord of the Rings: The Two Towers',\n",
       "  'Fight Club',\n",
       "  'The Lord of the Rings: The Fellowship of the Ring',\n",
       "  'Forrest Gump',\n",
       "  'The Good, the Bad and the Ugly',\n",
       "  'The Matrix',\n",
       "  'Goodfellas',\n",
       "  'Star Wars: Episode V - The Empire Strikes Back',\n",
       "  \"One Flew Over the Cuckoo's Nest\",\n",
       "  'Top Gun: Maverick',\n",
       "  'Interstellar',\n",
       "  'City of God',\n",
       "  'Spirited Away',\n",
       "  'Saving Private Ryan',\n",
       "  'The Green Mile',\n",
       "  'Life Is Beautiful',\n",
       "  'Se7en',\n",
       "  'Terminator 2: Judgment Day',\n",
       "  'The Silence of the Lambs',\n",
       "  'Star Wars',\n",
       "  'Hara-Kiri',\n",
       "  'Seven Samurai',\n",
       "  \"It's a Wonderful Life\",\n",
       "  'Parasite',\n",
       "  'Whiplash',\n",
       "  'The Intouchables',\n",
       "  'The Prestige',\n",
       "  'The Departed',\n",
       "  'The Pianist',\n",
       "  'Gladiator',\n",
       "  'American History X',\n",
       "  'The Usual Suspects',\n",
       "  'Léon: The Professional',\n",
       "  'The Lion King',\n",
       "  'Cinema Paradiso',\n",
       "  'Grave of the Fireflies',\n",
       "  'Back to the Future',\n",
       "  'Apocalypse Now',\n",
       "  'Alien',\n",
       "  'Once Upon a Time in the West',\n",
       "  'Psycho',\n",
       "  'The Shawshank Redemption',\n",
       "  'The Godfather',\n",
       "  'The Dark Knight',\n",
       "  'The Lord of the Rings: The Return of the King',\n",
       "  \"Schindler's List\",\n",
       "  'The Godfather Part II',\n",
       "  '12 Angry Men',\n",
       "  'Pulp Fiction',\n",
       "  'Inception',\n",
       "  'The Lord of the Rings: The Two Towers',\n",
       "  'Fight Club',\n",
       "  'The Lord of the Rings: The Fellowship of the Ring',\n",
       "  'Forrest Gump',\n",
       "  'The Good, the Bad and the Ugly',\n",
       "  'The Matrix',\n",
       "  'Goodfellas',\n",
       "  'Star Wars: Episode V - The Empire Strikes Back',\n",
       "  \"One Flew Over the Cuckoo's Nest\",\n",
       "  'Top Gun: Maverick',\n",
       "  'Interstellar',\n",
       "  'City of God',\n",
       "  'Spirited Away',\n",
       "  'Saving Private Ryan',\n",
       "  'The Green Mile',\n",
       "  'Life Is Beautiful',\n",
       "  'Se7en',\n",
       "  'Terminator 2: Judgment Day',\n",
       "  'The Silence of the Lambs',\n",
       "  'Star Wars',\n",
       "  'Hara-Kiri',\n",
       "  'Seven Samurai',\n",
       "  \"It's a Wonderful Life\",\n",
       "  'Parasite',\n",
       "  'Whiplash',\n",
       "  'The Intouchables',\n",
       "  'The Prestige',\n",
       "  'The Departed',\n",
       "  'The Pianist',\n",
       "  'Gladiator',\n",
       "  'American History X',\n",
       "  'The Usual Suspects',\n",
       "  'Léon: The Professional',\n",
       "  'The Lion King',\n",
       "  'Cinema Paradiso',\n",
       "  'Grave of the Fireflies',\n",
       "  'Back to the Future',\n",
       "  'Apocalypse Now',\n",
       "  'Alien',\n",
       "  'Once Upon a Time in the West',\n",
       "  'Psycho',\n",
       "  'The Shawshank Redemption',\n",
       "  'The Godfather',\n",
       "  'The Dark Knight',\n",
       "  'The Lord of the Rings: The Return of the King',\n",
       "  \"Schindler's List\",\n",
       "  'The Godfather Part II',\n",
       "  '12 Angry Men',\n",
       "  'Pulp Fiction',\n",
       "  'Inception',\n",
       "  'The Lord of the Rings: The Two Towers',\n",
       "  'Fight Club',\n",
       "  'The Lord of the Rings: The Fellowship of the Ring',\n",
       "  'Forrest Gump',\n",
       "  'The Good, the Bad and the Ugly',\n",
       "  'The Matrix',\n",
       "  'Goodfellas',\n",
       "  'Star Wars: Episode V - The Empire Strikes Back',\n",
       "  \"One Flew Over the Cuckoo's Nest\",\n",
       "  'Top Gun: Maverick',\n",
       "  'Interstellar',\n",
       "  'City of God',\n",
       "  'Spirited Away',\n",
       "  'Saving Private Ryan',\n",
       "  'The Green Mile',\n",
       "  'Life Is Beautiful',\n",
       "  'Se7en',\n",
       "  'Terminator 2: Judgment Day',\n",
       "  'The Silence of the Lambs',\n",
       "  'Star Wars',\n",
       "  'Hara-Kiri',\n",
       "  'Seven Samurai',\n",
       "  \"It's a Wonderful Life\",\n",
       "  'Parasite',\n",
       "  'Whiplash',\n",
       "  'The Intouchables',\n",
       "  'The Prestige',\n",
       "  'The Departed',\n",
       "  'The Pianist',\n",
       "  'Gladiator',\n",
       "  'American History X',\n",
       "  'The Usual Suspects',\n",
       "  'Léon: The Professional',\n",
       "  'The Lion King',\n",
       "  'Cinema Paradiso',\n",
       "  'Grave of the Fireflies',\n",
       "  'Back to the Future',\n",
       "  'Apocalypse Now',\n",
       "  'Alien',\n",
       "  'Once Upon a Time in the West',\n",
       "  'Psycho'],\n",
       " 'Release_Year': ['(1994)',\n",
       "  '(1972)',\n",
       "  '(2008)',\n",
       "  '(2003)',\n",
       "  '(1993)',\n",
       "  '(1974)',\n",
       "  '(1957)',\n",
       "  '(1994)',\n",
       "  '(2010)',\n",
       "  '(2002)',\n",
       "  '(1999)',\n",
       "  '(2001)',\n",
       "  '(1994)',\n",
       "  '(1966)',\n",
       "  '(1999)',\n",
       "  '(1990)',\n",
       "  '(1980)',\n",
       "  '(1975)',\n",
       "  '(2022)',\n",
       "  '(2014)',\n",
       "  '(2002)',\n",
       "  '(2001)',\n",
       "  '(1998)',\n",
       "  '(1999)',\n",
       "  '(1997)',\n",
       "  '(1995)',\n",
       "  '(1991)',\n",
       "  '(1991)',\n",
       "  '(1977)',\n",
       "  '(1962)',\n",
       "  '(1954)',\n",
       "  '(1946)',\n",
       "  '(2019)',\n",
       "  '(2014)',\n",
       "  '(2011)',\n",
       "  '(2006)',\n",
       "  '(2006)',\n",
       "  '(2002)',\n",
       "  '(2000)',\n",
       "  '(1998)',\n",
       "  '(1995)',\n",
       "  '(1994)',\n",
       "  '(1994)',\n",
       "  '(1988)',\n",
       "  '(1988)',\n",
       "  '(1985)',\n",
       "  '(1979)',\n",
       "  '(1979)',\n",
       "  '(1968)',\n",
       "  '(1960)',\n",
       "  '(1994)',\n",
       "  '(1972)',\n",
       "  '(2008)',\n",
       "  '(2003)',\n",
       "  '(1993)',\n",
       "  '(1974)',\n",
       "  '(1957)',\n",
       "  '(1994)',\n",
       "  '(2010)',\n",
       "  '(2002)',\n",
       "  '(1999)',\n",
       "  '(2001)',\n",
       "  '(1994)',\n",
       "  '(1966)',\n",
       "  '(1999)',\n",
       "  '(1990)',\n",
       "  '(1980)',\n",
       "  '(1975)',\n",
       "  '(2022)',\n",
       "  '(2014)',\n",
       "  '(2002)',\n",
       "  '(2001)',\n",
       "  '(1998)',\n",
       "  '(1999)',\n",
       "  '(1997)',\n",
       "  '(1995)',\n",
       "  '(1991)',\n",
       "  '(1991)',\n",
       "  '(1977)',\n",
       "  '(1962)',\n",
       "  '(1954)',\n",
       "  '(1946)',\n",
       "  '(2019)',\n",
       "  '(2014)',\n",
       "  '(2011)',\n",
       "  '(2006)',\n",
       "  '(2006)',\n",
       "  '(2002)',\n",
       "  '(2000)',\n",
       "  '(1998)',\n",
       "  '(1995)',\n",
       "  '(1994)',\n",
       "  '(1994)',\n",
       "  '(1988)',\n",
       "  '(1988)',\n",
       "  '(1985)',\n",
       "  '(1979)',\n",
       "  '(1979)',\n",
       "  '(1968)',\n",
       "  '(1960)',\n",
       "  '(1994)',\n",
       "  '(1972)',\n",
       "  '(2008)',\n",
       "  '(2003)',\n",
       "  '(1993)',\n",
       "  '(1974)',\n",
       "  '(1957)',\n",
       "  '(1994)',\n",
       "  '(2010)',\n",
       "  '(2002)',\n",
       "  '(1999)',\n",
       "  '(2001)',\n",
       "  '(1994)',\n",
       "  '(1966)',\n",
       "  '(1999)',\n",
       "  '(1990)',\n",
       "  '(1980)',\n",
       "  '(1975)',\n",
       "  '(2022)',\n",
       "  '(2014)',\n",
       "  '(2002)',\n",
       "  '(2001)',\n",
       "  '(1998)',\n",
       "  '(1999)',\n",
       "  '(1997)',\n",
       "  '(1995)',\n",
       "  '(1991)',\n",
       "  '(1991)',\n",
       "  '(1977)',\n",
       "  '(1962)',\n",
       "  '(1954)',\n",
       "  '(1946)',\n",
       "  '(2019)',\n",
       "  '(2014)',\n",
       "  '(2011)',\n",
       "  '(2006)',\n",
       "  '(2006)',\n",
       "  '(2002)',\n",
       "  '(2000)',\n",
       "  '(1998)',\n",
       "  '(1995)',\n",
       "  '(1994)',\n",
       "  '(1994)',\n",
       "  '(1988)',\n",
       "  '(1988)',\n",
       "  '(1985)',\n",
       "  '(1979)',\n",
       "  '(1979)',\n",
       "  '(1968)',\n",
       "  '(1960)',\n",
       "  '(1994)',\n",
       "  '(1972)',\n",
       "  '(2008)',\n",
       "  '(2003)',\n",
       "  '(1993)',\n",
       "  '(1974)',\n",
       "  '(1957)',\n",
       "  '(1994)',\n",
       "  '(2010)',\n",
       "  '(2002)',\n",
       "  '(1999)',\n",
       "  '(2001)',\n",
       "  '(1994)',\n",
       "  '(1966)',\n",
       "  '(1999)',\n",
       "  '(1990)',\n",
       "  '(1980)',\n",
       "  '(1975)',\n",
       "  '(2022)',\n",
       "  '(2014)',\n",
       "  '(2002)',\n",
       "  '(2001)',\n",
       "  '(1998)',\n",
       "  '(1999)',\n",
       "  '(1997)',\n",
       "  '(1995)',\n",
       "  '(1991)',\n",
       "  '(1991)',\n",
       "  '(1977)',\n",
       "  '(1962)',\n",
       "  '(1954)',\n",
       "  '(1946)',\n",
       "  '(2019)',\n",
       "  '(2014)',\n",
       "  '(2011)',\n",
       "  '(2006)',\n",
       "  '(2006)',\n",
       "  '(2002)',\n",
       "  '(2000)',\n",
       "  '(1998)',\n",
       "  '(1995)',\n",
       "  '(1994)',\n",
       "  '(1994)',\n",
       "  '(1988)',\n",
       "  '(1988)',\n",
       "  '(1985)',\n",
       "  '(1979)',\n",
       "  '(1979)',\n",
       "  '(1968)',\n",
       "  '(1960)',\n",
       "  '(1994)',\n",
       "  '(1972)',\n",
       "  '(2008)',\n",
       "  '(2003)',\n",
       "  '(1993)',\n",
       "  '(1974)',\n",
       "  '(1957)',\n",
       "  '(1994)',\n",
       "  '(2010)',\n",
       "  '(2002)',\n",
       "  '(1999)',\n",
       "  '(2001)',\n",
       "  '(1994)',\n",
       "  '(1966)',\n",
       "  '(1999)',\n",
       "  '(1990)',\n",
       "  '(1980)',\n",
       "  '(1975)',\n",
       "  '(2022)',\n",
       "  '(2014)',\n",
       "  '(2002)',\n",
       "  '(2001)',\n",
       "  '(1998)',\n",
       "  '(1999)',\n",
       "  '(1997)',\n",
       "  '(1995)',\n",
       "  '(1991)',\n",
       "  '(1991)',\n",
       "  '(1977)',\n",
       "  '(1962)',\n",
       "  '(1954)',\n",
       "  '(1946)',\n",
       "  '(2019)',\n",
       "  '(2014)',\n",
       "  '(2011)',\n",
       "  '(2006)',\n",
       "  '(2006)',\n",
       "  '(2002)',\n",
       "  '(2000)',\n",
       "  '(1998)',\n",
       "  '(1995)',\n",
       "  '(1994)',\n",
       "  '(1994)',\n",
       "  '(1988)',\n",
       "  '(1988)',\n",
       "  '(1985)',\n",
       "  '(1979)',\n",
       "  '(1979)',\n",
       "  '(1968)',\n",
       "  '(1960)'],\n",
       " 'Movie_Url': ['https://www.imdb.com//title/tt0111161/',\n",
       "  'https://www.imdb.com//title/tt0068646/',\n",
       "  'https://www.imdb.com//title/tt0468569/',\n",
       "  'https://www.imdb.com//title/tt0167260/',\n",
       "  'https://www.imdb.com//title/tt0108052/',\n",
       "  'https://www.imdb.com//title/tt0071562/',\n",
       "  'https://www.imdb.com//title/tt0050083/',\n",
       "  'https://www.imdb.com//title/tt0110912/',\n",
       "  'https://www.imdb.com//title/tt1375666/',\n",
       "  'https://www.imdb.com//title/tt0167261/',\n",
       "  'https://www.imdb.com//title/tt0137523/',\n",
       "  'https://www.imdb.com//title/tt0120737/',\n",
       "  'https://www.imdb.com//title/tt0109830/',\n",
       "  'https://www.imdb.com//title/tt0060196/',\n",
       "  'https://www.imdb.com//title/tt0133093/',\n",
       "  'https://www.imdb.com//title/tt0099685/',\n",
       "  'https://www.imdb.com//title/tt0080684/',\n",
       "  'https://www.imdb.com//title/tt0073486/',\n",
       "  'https://www.imdb.com//title/tt1745960/',\n",
       "  'https://www.imdb.com//title/tt0816692/',\n",
       "  'https://www.imdb.com//title/tt0317248/',\n",
       "  'https://www.imdb.com//title/tt0245429/',\n",
       "  'https://www.imdb.com//title/tt0120815/',\n",
       "  'https://www.imdb.com//title/tt0120689/',\n",
       "  'https://www.imdb.com//title/tt0118799/',\n",
       "  'https://www.imdb.com//title/tt0114369/',\n",
       "  'https://www.imdb.com//title/tt0103064/',\n",
       "  'https://www.imdb.com//title/tt0102926/',\n",
       "  'https://www.imdb.com//title/tt0076759/',\n",
       "  'https://www.imdb.com//title/tt0056058/',\n",
       "  'https://www.imdb.com//title/tt0047478/',\n",
       "  'https://www.imdb.com//title/tt0038650/',\n",
       "  'https://www.imdb.com//title/tt6751668/',\n",
       "  'https://www.imdb.com//title/tt2582802/',\n",
       "  'https://www.imdb.com//title/tt1675434/',\n",
       "  'https://www.imdb.com//title/tt0482571/',\n",
       "  'https://www.imdb.com//title/tt0407887/',\n",
       "  'https://www.imdb.com//title/tt0253474/',\n",
       "  'https://www.imdb.com//title/tt0172495/',\n",
       "  'https://www.imdb.com//title/tt0120586/',\n",
       "  'https://www.imdb.com//title/tt0114814/',\n",
       "  'https://www.imdb.com//title/tt0110413/',\n",
       "  'https://www.imdb.com//title/tt0110357/',\n",
       "  'https://www.imdb.com//title/tt0095765/',\n",
       "  'https://www.imdb.com//title/tt0095327/',\n",
       "  'https://www.imdb.com//title/tt0088763/',\n",
       "  'https://www.imdb.com//title/tt0078788/',\n",
       "  'https://www.imdb.com//title/tt0078748/',\n",
       "  'https://www.imdb.com//title/tt0064116/',\n",
       "  'https://www.imdb.com//title/tt0054215/',\n",
       "  'https://www.imdb.com//title/tt0111161/',\n",
       "  'https://www.imdb.com//title/tt0068646/',\n",
       "  'https://www.imdb.com//title/tt0468569/',\n",
       "  'https://www.imdb.com//title/tt0167260/',\n",
       "  'https://www.imdb.com//title/tt0108052/',\n",
       "  'https://www.imdb.com//title/tt0071562/',\n",
       "  'https://www.imdb.com//title/tt0050083/',\n",
       "  'https://www.imdb.com//title/tt0110912/',\n",
       "  'https://www.imdb.com//title/tt1375666/',\n",
       "  'https://www.imdb.com//title/tt0167261/',\n",
       "  'https://www.imdb.com//title/tt0137523/',\n",
       "  'https://www.imdb.com//title/tt0120737/',\n",
       "  'https://www.imdb.com//title/tt0109830/',\n",
       "  'https://www.imdb.com//title/tt0060196/',\n",
       "  'https://www.imdb.com//title/tt0133093/',\n",
       "  'https://www.imdb.com//title/tt0099685/',\n",
       "  'https://www.imdb.com//title/tt0080684/',\n",
       "  'https://www.imdb.com//title/tt0073486/',\n",
       "  'https://www.imdb.com//title/tt1745960/',\n",
       "  'https://www.imdb.com//title/tt0816692/',\n",
       "  'https://www.imdb.com//title/tt0317248/',\n",
       "  'https://www.imdb.com//title/tt0245429/',\n",
       "  'https://www.imdb.com//title/tt0120815/',\n",
       "  'https://www.imdb.com//title/tt0120689/',\n",
       "  'https://www.imdb.com//title/tt0118799/',\n",
       "  'https://www.imdb.com//title/tt0114369/',\n",
       "  'https://www.imdb.com//title/tt0103064/',\n",
       "  'https://www.imdb.com//title/tt0102926/',\n",
       "  'https://www.imdb.com//title/tt0076759/',\n",
       "  'https://www.imdb.com//title/tt0056058/',\n",
       "  'https://www.imdb.com//title/tt0047478/',\n",
       "  'https://www.imdb.com//title/tt0038650/',\n",
       "  'https://www.imdb.com//title/tt6751668/',\n",
       "  'https://www.imdb.com//title/tt2582802/',\n",
       "  'https://www.imdb.com//title/tt1675434/',\n",
       "  'https://www.imdb.com//title/tt0482571/',\n",
       "  'https://www.imdb.com//title/tt0407887/',\n",
       "  'https://www.imdb.com//title/tt0253474/',\n",
       "  'https://www.imdb.com//title/tt0172495/',\n",
       "  'https://www.imdb.com//title/tt0120586/',\n",
       "  'https://www.imdb.com//title/tt0114814/',\n",
       "  'https://www.imdb.com//title/tt0110413/',\n",
       "  'https://www.imdb.com//title/tt0110357/',\n",
       "  'https://www.imdb.com//title/tt0095765/',\n",
       "  'https://www.imdb.com//title/tt0095327/',\n",
       "  'https://www.imdb.com//title/tt0088763/',\n",
       "  'https://www.imdb.com//title/tt0078788/',\n",
       "  'https://www.imdb.com//title/tt0078748/',\n",
       "  'https://www.imdb.com//title/tt0064116/',\n",
       "  'https://www.imdb.com//title/tt0054215/',\n",
       "  'https://www.imdb.com//title/tt0111161/',\n",
       "  'https://www.imdb.com//title/tt0068646/',\n",
       "  'https://www.imdb.com//title/tt0468569/',\n",
       "  'https://www.imdb.com//title/tt0167260/',\n",
       "  'https://www.imdb.com//title/tt0108052/',\n",
       "  'https://www.imdb.com//title/tt0071562/',\n",
       "  'https://www.imdb.com//title/tt0050083/',\n",
       "  'https://www.imdb.com//title/tt0110912/',\n",
       "  'https://www.imdb.com//title/tt1375666/',\n",
       "  'https://www.imdb.com//title/tt0167261/',\n",
       "  'https://www.imdb.com//title/tt0137523/',\n",
       "  'https://www.imdb.com//title/tt0120737/',\n",
       "  'https://www.imdb.com//title/tt0109830/',\n",
       "  'https://www.imdb.com//title/tt0060196/',\n",
       "  'https://www.imdb.com//title/tt0133093/',\n",
       "  'https://www.imdb.com//title/tt0099685/',\n",
       "  'https://www.imdb.com//title/tt0080684/',\n",
       "  'https://www.imdb.com//title/tt0073486/',\n",
       "  'https://www.imdb.com//title/tt1745960/',\n",
       "  'https://www.imdb.com//title/tt0816692/',\n",
       "  'https://www.imdb.com//title/tt0317248/',\n",
       "  'https://www.imdb.com//title/tt0245429/',\n",
       "  'https://www.imdb.com//title/tt0120815/',\n",
       "  'https://www.imdb.com//title/tt0120689/',\n",
       "  'https://www.imdb.com//title/tt0118799/',\n",
       "  'https://www.imdb.com//title/tt0114369/',\n",
       "  'https://www.imdb.com//title/tt0103064/',\n",
       "  'https://www.imdb.com//title/tt0102926/',\n",
       "  'https://www.imdb.com//title/tt0076759/',\n",
       "  'https://www.imdb.com//title/tt0056058/',\n",
       "  'https://www.imdb.com//title/tt0047478/',\n",
       "  'https://www.imdb.com//title/tt0038650/',\n",
       "  'https://www.imdb.com//title/tt6751668/',\n",
       "  'https://www.imdb.com//title/tt2582802/',\n",
       "  'https://www.imdb.com//title/tt1675434/',\n",
       "  'https://www.imdb.com//title/tt0482571/',\n",
       "  'https://www.imdb.com//title/tt0407887/',\n",
       "  'https://www.imdb.com//title/tt0253474/',\n",
       "  'https://www.imdb.com//title/tt0172495/',\n",
       "  'https://www.imdb.com//title/tt0120586/',\n",
       "  'https://www.imdb.com//title/tt0114814/',\n",
       "  'https://www.imdb.com//title/tt0110413/',\n",
       "  'https://www.imdb.com//title/tt0110357/',\n",
       "  'https://www.imdb.com//title/tt0095765/',\n",
       "  'https://www.imdb.com//title/tt0095327/',\n",
       "  'https://www.imdb.com//title/tt0088763/',\n",
       "  'https://www.imdb.com//title/tt0078788/',\n",
       "  'https://www.imdb.com//title/tt0078748/',\n",
       "  'https://www.imdb.com//title/tt0064116/',\n",
       "  'https://www.imdb.com//title/tt0054215/',\n",
       "  'https://www.imdb.com//title/tt0111161/',\n",
       "  'https://www.imdb.com//title/tt0068646/',\n",
       "  'https://www.imdb.com//title/tt0468569/',\n",
       "  'https://www.imdb.com//title/tt0167260/',\n",
       "  'https://www.imdb.com//title/tt0108052/',\n",
       "  'https://www.imdb.com//title/tt0071562/',\n",
       "  'https://www.imdb.com//title/tt0050083/',\n",
       "  'https://www.imdb.com//title/tt0110912/',\n",
       "  'https://www.imdb.com//title/tt1375666/',\n",
       "  'https://www.imdb.com//title/tt0167261/',\n",
       "  'https://www.imdb.com//title/tt0137523/',\n",
       "  'https://www.imdb.com//title/tt0120737/',\n",
       "  'https://www.imdb.com//title/tt0109830/',\n",
       "  'https://www.imdb.com//title/tt0060196/',\n",
       "  'https://www.imdb.com//title/tt0133093/',\n",
       "  'https://www.imdb.com//title/tt0099685/',\n",
       "  'https://www.imdb.com//title/tt0080684/',\n",
       "  'https://www.imdb.com//title/tt0073486/',\n",
       "  'https://www.imdb.com//title/tt1745960/',\n",
       "  'https://www.imdb.com//title/tt0816692/',\n",
       "  'https://www.imdb.com//title/tt0317248/',\n",
       "  'https://www.imdb.com//title/tt0245429/',\n",
       "  'https://www.imdb.com//title/tt0120815/',\n",
       "  'https://www.imdb.com//title/tt0120689/',\n",
       "  'https://www.imdb.com//title/tt0118799/',\n",
       "  'https://www.imdb.com//title/tt0114369/',\n",
       "  'https://www.imdb.com//title/tt0103064/',\n",
       "  'https://www.imdb.com//title/tt0102926/',\n",
       "  'https://www.imdb.com//title/tt0076759/',\n",
       "  'https://www.imdb.com//title/tt0056058/',\n",
       "  'https://www.imdb.com//title/tt0047478/',\n",
       "  'https://www.imdb.com//title/tt0038650/',\n",
       "  'https://www.imdb.com//title/tt6751668/',\n",
       "  'https://www.imdb.com//title/tt2582802/',\n",
       "  'https://www.imdb.com//title/tt1675434/',\n",
       "  'https://www.imdb.com//title/tt0482571/',\n",
       "  'https://www.imdb.com//title/tt0407887/',\n",
       "  'https://www.imdb.com//title/tt0253474/',\n",
       "  'https://www.imdb.com//title/tt0172495/',\n",
       "  'https://www.imdb.com//title/tt0120586/',\n",
       "  'https://www.imdb.com//title/tt0114814/',\n",
       "  'https://www.imdb.com//title/tt0110413/',\n",
       "  'https://www.imdb.com//title/tt0110357/',\n",
       "  'https://www.imdb.com//title/tt0095765/',\n",
       "  'https://www.imdb.com//title/tt0095327/',\n",
       "  'https://www.imdb.com//title/tt0088763/',\n",
       "  'https://www.imdb.com//title/tt0078788/',\n",
       "  'https://www.imdb.com//title/tt0078748/',\n",
       "  'https://www.imdb.com//title/tt0064116/',\n",
       "  'https://www.imdb.com//title/tt0054215/',\n",
       "  'https://www.imdb.com//title/tt0111161/',\n",
       "  'https://www.imdb.com//title/tt0068646/',\n",
       "  'https://www.imdb.com//title/tt0468569/',\n",
       "  'https://www.imdb.com//title/tt0167260/',\n",
       "  'https://www.imdb.com//title/tt0108052/',\n",
       "  'https://www.imdb.com//title/tt0071562/',\n",
       "  'https://www.imdb.com//title/tt0050083/',\n",
       "  'https://www.imdb.com//title/tt0110912/',\n",
       "  'https://www.imdb.com//title/tt1375666/',\n",
       "  'https://www.imdb.com//title/tt0167261/',\n",
       "  'https://www.imdb.com//title/tt0137523/',\n",
       "  'https://www.imdb.com//title/tt0120737/',\n",
       "  'https://www.imdb.com//title/tt0109830/',\n",
       "  'https://www.imdb.com//title/tt0060196/',\n",
       "  'https://www.imdb.com//title/tt0133093/',\n",
       "  'https://www.imdb.com//title/tt0099685/',\n",
       "  'https://www.imdb.com//title/tt0080684/',\n",
       "  'https://www.imdb.com//title/tt0073486/',\n",
       "  'https://www.imdb.com//title/tt1745960/',\n",
       "  'https://www.imdb.com//title/tt0816692/',\n",
       "  'https://www.imdb.com//title/tt0317248/',\n",
       "  'https://www.imdb.com//title/tt0245429/',\n",
       "  'https://www.imdb.com//title/tt0120815/',\n",
       "  'https://www.imdb.com//title/tt0120689/',\n",
       "  'https://www.imdb.com//title/tt0118799/',\n",
       "  'https://www.imdb.com//title/tt0114369/',\n",
       "  'https://www.imdb.com//title/tt0103064/',\n",
       "  'https://www.imdb.com//title/tt0102926/',\n",
       "  'https://www.imdb.com//title/tt0076759/',\n",
       "  'https://www.imdb.com//title/tt0056058/',\n",
       "  'https://www.imdb.com//title/tt0047478/',\n",
       "  'https://www.imdb.com//title/tt0038650/',\n",
       "  'https://www.imdb.com//title/tt6751668/',\n",
       "  'https://www.imdb.com//title/tt2582802/',\n",
       "  'https://www.imdb.com//title/tt1675434/',\n",
       "  'https://www.imdb.com//title/tt0482571/',\n",
       "  'https://www.imdb.com//title/tt0407887/',\n",
       "  'https://www.imdb.com//title/tt0253474/',\n",
       "  'https://www.imdb.com//title/tt0172495/',\n",
       "  'https://www.imdb.com//title/tt0120586/',\n",
       "  'https://www.imdb.com//title/tt0114814/',\n",
       "  'https://www.imdb.com//title/tt0110413/',\n",
       "  'https://www.imdb.com//title/tt0110357/',\n",
       "  'https://www.imdb.com//title/tt0095765/',\n",
       "  'https://www.imdb.com//title/tt0095327/',\n",
       "  'https://www.imdb.com//title/tt0088763/',\n",
       "  'https://www.imdb.com//title/tt0078788/',\n",
       "  'https://www.imdb.com//title/tt0078748/',\n",
       "  'https://www.imdb.com//title/tt0064116/',\n",
       "  'https://www.imdb.com//title/tt0054215/'],\n",
       " 'Rating': ['9.3',\n",
       "  '9.2',\n",
       "  '9.0',\n",
       "  '9.0',\n",
       "  '9.0',\n",
       "  '9.0',\n",
       "  '9.0',\n",
       "  '8.9',\n",
       "  '8.8',\n",
       "  '8.8',\n",
       "  '8.8',\n",
       "  '8.8',\n",
       "  '8.8',\n",
       "  '8.8',\n",
       "  '8.7',\n",
       "  '8.7',\n",
       "  '8.7',\n",
       "  '8.7',\n",
       "  '8.6',\n",
       "  '8.6',\n",
       "  '8.6',\n",
       "  '8.6',\n",
       "  '8.6',\n",
       "  '8.6',\n",
       "  '8.6',\n",
       "  '8.6',\n",
       "  '8.6',\n",
       "  '8.6',\n",
       "  '8.6',\n",
       "  '8.6',\n",
       "  '8.6',\n",
       "  '8.6',\n",
       "  '8.5',\n",
       "  '8.5',\n",
       "  '8.5',\n",
       "  '8.5',\n",
       "  '8.5',\n",
       "  '8.5',\n",
       "  '8.5',\n",
       "  '8.5',\n",
       "  '8.5',\n",
       "  '8.5',\n",
       "  '8.5',\n",
       "  '8.5',\n",
       "  '8.5',\n",
       "  '8.5',\n",
       "  '8.5',\n",
       "  '8.5',\n",
       "  '8.5',\n",
       "  '8.5',\n",
       "  '9.3',\n",
       "  '9.2',\n",
       "  '9.0',\n",
       "  '9.0',\n",
       "  '9.0',\n",
       "  '9.0',\n",
       "  '9.0',\n",
       "  '8.9',\n",
       "  '8.8',\n",
       "  '8.8',\n",
       "  '8.8',\n",
       "  '8.8',\n",
       "  '8.8',\n",
       "  '8.8',\n",
       "  '8.7',\n",
       "  '8.7',\n",
       "  '8.7',\n",
       "  '8.7',\n",
       "  '8.6',\n",
       "  '8.6',\n",
       "  '8.6',\n",
       "  '8.6',\n",
       "  '8.6',\n",
       "  '8.6',\n",
       "  '8.6',\n",
       "  '8.6',\n",
       "  '8.6',\n",
       "  '8.6',\n",
       "  '8.6',\n",
       "  '8.6',\n",
       "  '8.6',\n",
       "  '8.6',\n",
       "  '8.5',\n",
       "  '8.5',\n",
       "  '8.5',\n",
       "  '8.5',\n",
       "  '8.5',\n",
       "  '8.5',\n",
       "  '8.5',\n",
       "  '8.5',\n",
       "  '8.5',\n",
       "  '8.5',\n",
       "  '8.5',\n",
       "  '8.5',\n",
       "  '8.5',\n",
       "  '8.5',\n",
       "  '8.5',\n",
       "  '8.5',\n",
       "  '8.5',\n",
       "  '8.5',\n",
       "  '9.3',\n",
       "  '9.2',\n",
       "  '9.0',\n",
       "  '9.0',\n",
       "  '9.0',\n",
       "  '9.0',\n",
       "  '9.0',\n",
       "  '8.9',\n",
       "  '8.8',\n",
       "  '8.8',\n",
       "  '8.8',\n",
       "  '8.8',\n",
       "  '8.8',\n",
       "  '8.8',\n",
       "  '8.7',\n",
       "  '8.7',\n",
       "  '8.7',\n",
       "  '8.7',\n",
       "  '8.6',\n",
       "  '8.6',\n",
       "  '8.6',\n",
       "  '8.6',\n",
       "  '8.6',\n",
       "  '8.6',\n",
       "  '8.6',\n",
       "  '8.6',\n",
       "  '8.6',\n",
       "  '8.6',\n",
       "  '8.6',\n",
       "  '8.6',\n",
       "  '8.6',\n",
       "  '8.6',\n",
       "  '8.5',\n",
       "  '8.5',\n",
       "  '8.5',\n",
       "  '8.5',\n",
       "  '8.5',\n",
       "  '8.5',\n",
       "  '8.5',\n",
       "  '8.5',\n",
       "  '8.5',\n",
       "  '8.5',\n",
       "  '8.5',\n",
       "  '8.5',\n",
       "  '8.5',\n",
       "  '8.5',\n",
       "  '8.5',\n",
       "  '8.5',\n",
       "  '8.5',\n",
       "  '8.5',\n",
       "  '9.3',\n",
       "  '9.2',\n",
       "  '9.0',\n",
       "  '9.0',\n",
       "  '9.0',\n",
       "  '9.0',\n",
       "  '9.0',\n",
       "  '8.9',\n",
       "  '8.8',\n",
       "  '8.8',\n",
       "  '8.8',\n",
       "  '8.8',\n",
       "  '8.8',\n",
       "  '8.8',\n",
       "  '8.7',\n",
       "  '8.7',\n",
       "  '8.7',\n",
       "  '8.7',\n",
       "  '8.6',\n",
       "  '8.6',\n",
       "  '8.6',\n",
       "  '8.6',\n",
       "  '8.6',\n",
       "  '8.6',\n",
       "  '8.6',\n",
       "  '8.6',\n",
       "  '8.6',\n",
       "  '8.6',\n",
       "  '8.6',\n",
       "  '8.6',\n",
       "  '8.6',\n",
       "  '8.6',\n",
       "  '8.5',\n",
       "  '8.5',\n",
       "  '8.5',\n",
       "  '8.5',\n",
       "  '8.5',\n",
       "  '8.5',\n",
       "  '8.5',\n",
       "  '8.5',\n",
       "  '8.5',\n",
       "  '8.5',\n",
       "  '8.5',\n",
       "  '8.5',\n",
       "  '8.5',\n",
       "  '8.5',\n",
       "  '8.5',\n",
       "  '8.5',\n",
       "  '8.5',\n",
       "  '8.5',\n",
       "  '9.3',\n",
       "  '9.2',\n",
       "  '9.0',\n",
       "  '9.0',\n",
       "  '9.0',\n",
       "  '9.0',\n",
       "  '9.0',\n",
       "  '8.9',\n",
       "  '8.8',\n",
       "  '8.8',\n",
       "  '8.8',\n",
       "  '8.8',\n",
       "  '8.8',\n",
       "  '8.8',\n",
       "  '8.7',\n",
       "  '8.7',\n",
       "  '8.7',\n",
       "  '8.7',\n",
       "  '8.6',\n",
       "  '8.6',\n",
       "  '8.6',\n",
       "  '8.6',\n",
       "  '8.6',\n",
       "  '8.6',\n",
       "  '8.6',\n",
       "  '8.6',\n",
       "  '8.6',\n",
       "  '8.6',\n",
       "  '8.6',\n",
       "  '8.6',\n",
       "  '8.6',\n",
       "  '8.6',\n",
       "  '8.5',\n",
       "  '8.5',\n",
       "  '8.5',\n",
       "  '8.5',\n",
       "  '8.5',\n",
       "  '8.5',\n",
       "  '8.5',\n",
       "  '8.5',\n",
       "  '8.5',\n",
       "  '8.5',\n",
       "  '8.5',\n",
       "  '8.5',\n",
       "  '8.5',\n",
       "  '8.5',\n",
       "  '8.5',\n",
       "  '8.5',\n",
       "  '8.5',\n",
       "  '8.5']}"
      ]
     },
     "execution_count": 226,
     "metadata": {},
     "output_type": "execute_result"
    }
   ],
   "source": [
    "All_Movies"
   ]
  },
  {
   "cell_type": "markdown",
   "metadata": {},
   "source": [
    "# Summary"
   ]
  },
  {
   "cell_type": "markdown",
   "metadata": {},
   "source": [
    "Here's what we have covered\n",
    "\n",
    "1.First we had identified the Web pages to Scrape the related information.\n",
    "\n",
    "2.Download webpages using \"requests\" Library\n",
    "\n",
    "3.Used BeautifulSoup to parse the HTML source code\n",
    "\n",
    "4.Extract data like movie name, year in which it released, url of the the movie and rating for each movie\n",
    "\n",
    "5.Collect the downloaded data into Python lists\n",
    "\n",
    "6.Extract and combine data from multiple pages\n",
    "\n",
    "7.Create CSV file with the all the information that we had extracted from the above steps."
   ]
  },
  {
   "cell_type": "markdown",
   "metadata": {},
   "source": [
    "# Future Work"
   ]
  },
  {
   "cell_type": "markdown",
   "metadata": {},
   "source": [
    "* We can now work forward to explore this data more and more to fetch meaningful information out of it.\n",
    "\n",
    "* With all the insights , and further analysis into the data, we can have answers to a lot of questions like -\n",
    "\n",
    "   * Which actor has worked in most top rated movies across the world?\n",
    "   * The Top Rated Movies as per the Genre of our interest?\n",
    "   * Which Director has directed the most top rated movies?\n",
    "   * we can also find the metascore,gross for each movie?\n",
    "   "
   ]
  },
  {
   "cell_type": "markdown",
   "metadata": {},
   "source": [
    "# Reference"
   ]
  },
  {
   "cell_type": "markdown",
   "metadata": {},
   "source": [
    "[1] Python offical documentation. https://docs.python.org/3/\n",
    "\n",
    "[2] Requests library. https://pypi.org/project/requests/\n",
    "\n",
    "[3] Beautiful Soup documentation. https://www.crummy.com/software/BeautifulSoup/bs4/doc/\n",
    "\n",
    "[4] Aakash N S, Introduction to Web Scraping, 2021. https://jovian.ai/aakashns/python-web-scraping-and-rest-api\n",
    "\n",
    "[5] Pandas library documentation. https://pandas.pydata.org/docs/\n",
    "\n",
    "[6] IMDB Website. https://www.imdb.com/chart/top\n",
    "\n"
   ]
  }
 ],
 "metadata": {
  "kernelspec": {
   "display_name": "Python 3 (ipykernel)",
   "language": "python",
   "name": "python3"
  },
  "language_info": {
   "codemirror_mode": {
    "name": "ipython",
    "version": 3
   },
   "file_extension": ".py",
   "mimetype": "text/x-python",
   "name": "python",
   "nbconvert_exporter": "python",
   "pygments_lexer": "ipython3",
   "version": "3.9.6"
  }
 },
 "nbformat": 4,
 "nbformat_minor": 2
}
